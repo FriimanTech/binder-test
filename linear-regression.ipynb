{
 "cells": [
  {
   "cell_type": "markdown",
   "metadata": {},
   "source": [
    "## ✅ Project Explanation\n",
    "\n",
    "You will be provided with step-by-step instructions on how to build the machine learning model, along with a Python notebook in **JupyterLab** where you can type and run the code.\n",
    "\n",
    "To use the Jupyter Notebook:\n",
    "\n",
    "* You can enter code by clicking on a **cell**. To open a new cell, hover in the middle of the notebook and click the **\"+\" icon** or use the **Insert menu**.\n",
    "* Follow each step in the instructions and type the corresponding code into a cell.\n",
    "* To run a cell, either click the **play button** on the left side of the cell or press **Shift + Enter** on your keyboard.\n",
    "\n",
    "If you're unfamiliar with how Jupyter Notebooks work, you can search online for tutorials or guides on “How to use Jupyter Notebook” for more details."
   ]
  },
  {
   "cell_type": "code",
   "execution_count": null,
   "metadata": {},
   "outputs": [],
   "source": [
    "# Paste Step 1 Code Here"
   ]
  },
  {
   "cell_type": "code",
   "execution_count": 1,
   "metadata": {},
   "outputs": [],
   "source": [
    "# Paste Step 2 Code Here"
   ]
  },
  {
   "cell_type": "code",
   "execution_count": 2,
   "metadata": {},
   "outputs": [],
   "source": [
    "# Paste Step 3 Code Here"
   ]
  },
  {
   "cell_type": "code",
   "execution_count": 3,
   "metadata": {},
   "outputs": [],
   "source": [
    "# Paste Step 4 Code Here"
   ]
  },
  {
   "cell_type": "code",
   "execution_count": null,
   "metadata": {},
   "outputs": [],
   "source": [
    "# Paste Step 5 Code Here"
   ]
  },
  {
   "cell_type": "code",
   "execution_count": null,
   "metadata": {},
   "outputs": [],
   "source": [
    "# Paste Step 6 Code Here"
   ]
  }
 ],
 "metadata": {
  "kernelspec": {
   "display_name": "base",
   "language": "python",
   "name": "python3"
  },
  "language_info": {
   "codemirror_mode": {
    "name": "ipython",
    "version": 3
   },
   "file_extension": ".py",
   "mimetype": "text/x-python",
   "name": "python",
   "nbconvert_exporter": "python",
   "pygments_lexer": "ipython3",
   "version": "3.12.3"
  }
 },
 "nbformat": 4,
 "nbformat_minor": 2
}
